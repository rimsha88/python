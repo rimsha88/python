{
 "cells": [
  {
   "cell_type": "markdown",
   "metadata": {},
   "source": [
    "# i'm so happy to start python class with static type"
   ]
  },
  {
   "cell_type": "code",
   "execution_count": 12,
   "metadata": {},
   "outputs": [
    {
     "name": "stdout",
     "output_type": "stream",
     "text": [
      "hello world\n"
     ]
    }
   ],
   "source": [
    "print(\"hello world\")"
   ]
  },
  {
   "cell_type": "markdown",
   "metadata": {},
   "source": [
    "#string"
   ]
  },
  {
   "cell_type": "code",
   "execution_count": 27,
   "metadata": {},
   "outputs": [
    {
     "name": "stdout",
     "output_type": "stream",
     "text": [
      "90000\n",
      "90000\n",
      "<class 'int'>\n",
      "2183647806864\n",
      "<generator object <genexpr> at 0x000001FC6B8E71D0>\n"
     ]
    }
   ],
   "source": [
    "name:int=90000\n",
    "print(name)\n",
    "print(name)  #print\n",
    "print(type(name)) #type\n",
    "print(id(name)) #physical address\n",
    "print(i for i in dir(name)if \"_\" not in i) #methods and attributes"
   ]
  },
  {
   "cell_type": "code",
   "execution_count": 26,
   "metadata": {},
   "outputs": [
    {
     "name": "stdout",
     "output_type": "stream",
     "text": [
      "9.555667\n",
      "9.555667\n",
      "<class 'float'>\n",
      "2183647809808\n",
      "<generator object <genexpr> at 0x000001FC6B7A3ED0>\n"
     ]
    }
   ],
   "source": [
    "name:float=9.555667 \n",
    "print(name)\n",
    "print(name)  #print\n",
    "print(type(name)) #type\n",
    "print(id(name)) #physical address\n",
    "print(i for i in dir(name)if \"_\" not in i) #methods and attributes"
   ]
  },
  {
   "cell_type": "code",
   "execution_count": 29,
   "metadata": {},
   "outputs": [
    {
     "name": "stdout",
     "output_type": "stream",
     "text": [
      "True\n",
      "<class 'bool'>\n",
      "140733138545744\n",
      "<generator object <genexpr> at 0x000001FC6B7A01E0>\n"
     ]
    }
   ],
   "source": [
    "name:bool=True \n",
    "print(name)  #print\n",
    "print(type(name)) #type\n",
    "print(id(name)) #physical address\n",
    "print(i for i in dir(name)if \"_\" not in i) #methods and attributes"
   ]
  },
  {
   "cell_type": "code",
   "execution_count": 30,
   "metadata": {},
   "outputs": [
    {
     "name": "stdout",
     "output_type": "stream",
     "text": [
      "['a', 'b', 'c']\n",
      "<class 'list'>\n",
      "2183646627328\n",
      "<generator object <genexpr> at 0x000001FC6B780D40>\n"
     ]
    }
   ],
   "source": [
    "name:list[str]=['a','b','c']\n",
    "print(name)  #print\n",
    "print(type(name)) #type\n",
    "print(id(name)) #physical address\n",
    "print(i for i in dir(name)if \"_\" not in i) #methods and attributes"
   ]
  },
  {
   "cell_type": "code",
   "execution_count": 32,
   "metadata": {},
   "outputs": [
    {
     "name": "stdout",
     "output_type": "stream",
     "text": [
      "('pakistan', 7655677, 7.843)\n",
      "<class 'tuple'>\n",
      "2183652185664\n",
      "<generator object <genexpr> at 0x000001FC6B7A0FB0>\n"
     ]
    }
   ],
   "source": [
    "name:any=\"pakistan\" ,7655677 ,7.843\n",
    "print(name)  #print\n",
    "print(type(name)) #type\n",
    "print(id(name)) #physical address\n",
    "print(i for i in dir(name)if \"_\" not in i) #methods and attributes"
   ]
  },
  {
   "cell_type": "code",
   "execution_count": 31,
   "metadata": {},
   "outputs": [
    {
     "name": "stdout",
     "output_type": "stream",
     "text": [
      "{8776, 'pakistan', 7.987}\n",
      "<class 'set'>\n",
      "2183653038720\n",
      "<generator object <genexpr> at 0x000001FC6B8E5D80>\n"
     ]
    }
   ],
   "source": [
    "name:tuple[str,int,float]={\"pakistan\",8776,7.987}\n",
    "print(name)  #print\n",
    "print(type(name)) #type\n",
    "print(id(name)) #physical address\n",
    "print(i for i in dir(name)if \"_\" not in i) #methods and attributes"
   ]
  },
  {
   "cell_type": "code",
   "execution_count": 15,
   "metadata": {},
   "outputs": [
    {
     "name": "stdout",
     "output_type": "stream",
     "text": [
      "5000\n"
     ]
    }
   ],
   "source": [
    "name:int=5000\n",
    "print(name)"
   ]
  },
  {
   "cell_type": "code",
   "execution_count": 16,
   "metadata": {},
   "outputs": [
    {
     "name": "stdout",
     "output_type": "stream",
     "text": [
      "700\n"
     ]
    }
   ],
   "source": [
    "name:str=700\n",
    "print(name)"
   ]
  },
  {
   "cell_type": "code",
   "execution_count": 17,
   "metadata": {},
   "outputs": [
    {
     "name": "stdout",
     "output_type": "stream",
     "text": [
      "zinda bad\n",
      "zinda bad\n",
      "zinda bad\n",
      "zinda bad\n",
      "zinda bad\n",
      "zinda bad\n"
     ]
    }
   ],
   "source": [
    "print(\"zinda bad\")\n",
    "print(\"zinda bad\")\n",
    "print(\"zinda bad\")\n",
    "print(\"zinda bad\")\n",
    "print(\"zinda bad\")\n",
    "print(\"zinda bad\")"
   ]
  },
  {
   "cell_type": "code",
   "execution_count": 18,
   "metadata": {},
   "outputs": [
    {
     "name": "stdout",
     "output_type": "stream",
     "text": [
      "zinda bad abc\n",
      "zinda bad 66\n",
      "zinda bad77\n",
      "zinda bad9000\n",
      "zinda bad99\n"
     ]
    }
   ],
   "source": [
    "print(\"zinda bad abc\")\n",
    "print(\"zinda bad 66\")\n",
    "print(\"zinda bad77\")\n",
    "print(\"zinda bad9000\")\n",
    "print(\"zinda bad99\")"
   ]
  }
 ],
 "metadata": {
  "kernelspec": {
   "display_name": "Python 3",
   "language": "python",
   "name": "python3"
  },
  "language_info": {
   "codemirror_mode": {
    "name": "ipython",
    "version": 3
   },
   "file_extension": ".py",
   "mimetype": "text/x-python",
   "name": "python",
   "nbconvert_exporter": "python",
   "pygments_lexer": "ipython3",
   "version": "3.12.2"
  }
 },
 "nbformat": 4,
 "nbformat_minor": 2
}
