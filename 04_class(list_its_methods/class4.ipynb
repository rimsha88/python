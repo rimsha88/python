{
 "cells": [
  {
   "cell_type": "code",
   "execution_count": 1,
   "metadata": {},
   "outputs": [],
   "source": [
    "name1 : str = 'amna'\n",
    "name2 : str = \"jhon\"\n",
    "name3 : str = \"anm\""
   ]
  },
  {
   "cell_type": "markdown",
   "metadata": {},
   "source": [
    "#list\n",
    "* dynamic length\n",
    "* hytrigenous data types (Multiple types)\n",
    "* Index \n",
    "  *positive o to n-1\n",
    "  *negative -1 ti length\n",
    "*slicing\n",
    "*variables names(start,end,step)\n",
    "  *start: int = include\n",
    "  *end: int =n-1\n",
    "  *step: int = sequance"
   ]
  },
  {
   "cell_type": "code",
   "execution_count": 5,
   "metadata": {},
   "outputs": [
    {
     "name": "stdout",
     "output_type": "stream",
     "text": [
      "amna\n",
      "amna\n",
      "anm\n",
      "jhon\n"
     ]
    }
   ],
   "source": [
    "#old way\n",
    "#->         0      1      2\n",
    "names = [\"amna\",\"jhon\",\"anm\"] # length-1\n",
    "#-<       -3      -2    -1\n",
    "print(names[0])# amna\n",
    "print(names[-3])# amna\n",
    "print(names[2])# anm\n",
    "print(names[1])# jhon"
   ]
  },
  {
   "cell_type": "code",
   "execution_count": 15,
   "metadata": {},
   "outputs": [
    {
     "name": "stdout",
     "output_type": "stream",
     "text": [
      "anm\n"
     ]
    }
   ],
   "source": [
    "#->         0      1      2\n",
    "names :list[any] = [\"amna\",\"jhon\",\"anm\"] # length-1\n",
    "#-<       -3      -2    -1\n",
    "print(names[-2])"
   ]
  },
  {
   "cell_type": "code",
   "execution_count": 14,
   "metadata": {},
   "outputs": [
    {
     "name": "stdout",
     "output_type": "stream",
     "text": [
      "<class 'list'>\n",
      "<class 'str'>\n",
      "founder of PIAIC JHON\n"
     ]
    }
   ],
   "source": [
    "#for typing import Any\n",
    "#->         0      1      2\n",
    "names :list[any] = [\"amna\",\"jhon\",\"anm\"] # length-1\n",
    "#-<       -3      -2    -1\n",
    "print(type(names))\n",
    "print(type(names[-2]))\n",
    "print(f'founder of PIAIC {names[-2]. upper()}')"
   ]
  },
  {
   "cell_type": "code",
   "execution_count": 16,
   "metadata": {},
   "outputs": [
    {
     "name": "stdout",
     "output_type": "stream",
     "text": [
      "jhon\n"
     ]
    }
   ],
   "source": [
    "#->         0      1      2\n",
    "names :list[str] = [\"amna\",\"jhon\",\"anm\"] # length-1\n",
    "#-<       -3      -2    -1\n",
    "print(names[-2])"
   ]
  },
  {
   "cell_type": "code",
   "execution_count": 22,
   "metadata": {},
   "outputs": [
    {
     "name": "stdout",
     "output_type": "stream",
     "text": [
      "['A', 'B', 'C', 'D', 'E', 'F', 'G', 'H', 'I', 'J', 'K', 'L', 'M', 'N', 'O', 'P', 'Q', 'R', 'S', 'T', 'U', 'V', 'W', 'X', 'Y', 'Z']\n"
     ]
    }
   ],
   "source": [
    "characters : list[str] = list(\"ABCDEFGHIJKLMNOPQRSTUVWXYZ\")\n",
    "print(characters)"
   ]
  },
  {
   "cell_type": "code",
   "execution_count": 24,
   "metadata": {},
   "outputs": [
    {
     "name": "stdout",
     "output_type": "stream",
     "text": [
      "['a', 'b', 'c', 'd', 'e', 'f', 'g', 'h', 'i', 'j']\n"
     ]
    }
   ],
   "source": [
    "characters : list[str] = list(\"abcdefghij\")\n",
    "print(characters)"
   ]
  },
  {
   "cell_type": "code",
   "execution_count": 28,
   "metadata": {},
   "outputs": [
    {
     "name": "stdout",
     "output_type": "stream",
     "text": [
      "['A', 'B']\n",
      "['A', 'B']\n",
      "['A', 'B']\n",
      "['A', 'B']\n",
      "['A', 'B']\n"
     ]
    }
   ],
   "source": [
    "#                         0   1   2                                                                                           25\n",
    "character : list[str] = ['A','B','C','D','E','F','G','H','I','J','K','L','M','N','O','P','Q','R','S','T','U','V','W','X','Y','Z']\n",
    "#                        -26  -25 -24                                                                                       -3   -2   -1\n",
    "# default slicing go from left to right\n",
    "print(character[0:2]) # 0=include : index 2-1=1\n",
    "print(character[:2]) # not pass any number = all\n",
    "print(character[-26:-24])# 0=include : index -24-1=-25\n",
    "print(character[0:2:1]) # 0=include : index 2-1=1\n",
    "print(character[0:2:]) # 0=include : index 2-1=1"
   ]
  },
  {
   "cell_type": "code",
   "execution_count": 34,
   "metadata": {},
   "outputs": [
    {
     "name": "stdout",
     "output_type": "stream",
     "text": [
      "['A', 'C', 'E', 'G', 'I', 'K', 'M', 'O', 'Q', 'S', 'U', 'W', 'Y']\n"
     ]
    }
   ],
   "source": [
    "characters : list[str] =  ['A','B','C','D','E','F','G','H','I','J','K','L','M','N','O','P','Q','R','S','T','U','V','W','X','Y','Z']\n",
    "print(characters[::2])"
   ]
  },
  {
   "cell_type": "code",
   "execution_count": 35,
   "metadata": {},
   "outputs": [
    {
     "name": "stdout",
     "output_type": "stream",
     "text": [
      "['Z', 'Y', 'X', 'W', 'V', 'U', 'T', 'S', 'R', 'Q', 'P', 'O', 'N', 'M', 'L', 'K', 'J', 'I', 'H', 'G', 'F', 'E', 'D', 'C', 'B', 'A']\n"
     ]
    }
   ],
   "source": [
    "characters : list[str] =  ['A','B','C','D','E','F','G','H','I','J','K','L','M','N','O','P','Q','R','S','T','U','V','W','X','Y','Z']\n",
    "print(characters[::-1])"
   ]
  },
  {
   "cell_type": "code",
   "execution_count": 36,
   "metadata": {},
   "outputs": [
    {
     "name": "stdout",
     "output_type": "stream",
     "text": [
      "['B', 'C', 'D', 'E', 'F', 'G', 'H', 'I', 'J', 'K', 'L', 'M', 'N', 'O', 'P', 'Q', 'R', 'S', 'T', 'U', 'V', 'W']\n"
     ]
    }
   ],
   "source": [
    "characters : list[str] =  ['A','B','C','D','E','F','G','H','I','J','K','L','M','N','O','P','Q','R','S','T','U','V','W','X','Y','Z']\n",
    "print(characters[1:-3])"
   ]
  },
  {
   "cell_type": "code",
   "execution_count": 37,
   "metadata": {},
   "outputs": [
    {
     "name": "stdout",
     "output_type": "stream",
     "text": [
      "['H']\n"
     ]
    }
   ],
   "source": [
    "#                           0   1   2   3   4   5   6   7 \n",
    "characters : list[str] =  ['A','B','C','D','E','F','G','H']\n",
    "#                          -8  -7  -6  -5  -4  -3  -2   -1 \n",
    "# iteration clising ->\n",
    "# step -> positive\n",
    "# step -< negative\n",
    "print(characters[-1:-3:-5])"
   ]
  },
  {
   "cell_type": "markdown",
   "metadata": {},
   "source": [
    "#List methods"
   ]
  },
  {
   "cell_type": "code",
   "execution_count": 49,
   "metadata": {},
   "outputs": [
    {
     "data": {
      "text/plain": [
       "['append',\n",
       " 'clear',\n",
       " 'copy',\n",
       " 'count',\n",
       " 'extend',\n",
       " 'index',\n",
       " 'insert',\n",
       " 'pop',\n",
       " 'remove',\n",
       " 'reverse',\n",
       " 'sort']"
      ]
     },
     "execution_count": 49,
     "metadata": {},
     "output_type": "execute_result"
    }
   ],
   "source": [
    "[i for i in dir(list)if\"_\" not in i]"
   ]
  },
  {
   "cell_type": "markdown",
   "metadata": {},
   "source": [
    "help\n",
    "*help(object)\n",
    "*object?\n",
    "*object??\n",
    "*?object\n",
    "*??object"
   ]
  },
  {
   "cell_type": "code",
   "execution_count": 50,
   "metadata": {},
   "outputs": [
    {
     "name": "stdout",
     "output_type": "stream",
     "text": [
      "\u001b[1;31mSignature:\u001b[0m \u001b[0mprint\u001b[0m\u001b[1;33m(\u001b[0m\u001b[1;33m*\u001b[0m\u001b[0margs\u001b[0m\u001b[1;33m,\u001b[0m \u001b[0msep\u001b[0m\u001b[1;33m=\u001b[0m\u001b[1;34m' '\u001b[0m\u001b[1;33m,\u001b[0m \u001b[0mend\u001b[0m\u001b[1;33m=\u001b[0m\u001b[1;34m'\\n'\u001b[0m\u001b[1;33m,\u001b[0m \u001b[0mfile\u001b[0m\u001b[1;33m=\u001b[0m\u001b[1;32mNone\u001b[0m\u001b[1;33m,\u001b[0m \u001b[0mflush\u001b[0m\u001b[1;33m=\u001b[0m\u001b[1;32mFalse\u001b[0m\u001b[1;33m)\u001b[0m\u001b[1;33m\u001b[0m\u001b[1;33m\u001b[0m\u001b[0m\n",
      "\u001b[1;31mDocstring:\u001b[0m\n",
      "Prints the values to a stream, or to sys.stdout by default.\n",
      "\n",
      "sep\n",
      "  string inserted between values, default a space.\n",
      "end\n",
      "  string appended after the last value, default a newline.\n",
      "file\n",
      "  a file-like object (stream); defaults to the current sys.stdout.\n",
      "flush\n",
      "  whether to forcibly flush the stream.\n",
      "\u001b[1;31mType:\u001b[0m      builtin_function_or_method"
     ]
    }
   ],
   "source": [
    "??print"
   ]
  },
  {
   "cell_type": "code",
   "execution_count": 51,
   "metadata": {},
   "outputs": [
    {
     "name": "stdout",
     "output_type": "stream",
     "text": [
      "Object `pop` not found.\n"
     ]
    }
   ],
   "source": [
    "?pop"
   ]
  },
  {
   "cell_type": "code",
   "execution_count": 42,
   "metadata": {},
   "outputs": [
    {
     "name": "stdout",
     "output_type": "stream",
     "text": [
      "['amna', 'jhon', 'anm', 20, 'true']\n",
      "[' Amina Amen', 'jhon', 'anm', 20, 'true']\n"
     ]
    }
   ],
   "source": [
    "#->         0      1      2\n",
    "names :list[any] = [\"amna\",\"jhon\",\"anm\",20,\"true\"] # length-1\n",
    "#-<       -3      -2    -1\n",
    "print(names)\n",
    "names[0] =\" Amina Amen\" #mutable-> editable\n",
    "print(names)"
   ]
  },
  {
   "cell_type": "code",
   "execution_count": 45,
   "metadata": {},
   "outputs": [
    {
     "name": "stdout",
     "output_type": "stream",
     "text": [
      "pakistan\n"
     ]
    },
    {
     "data": {
      "text/plain": [
       "None"
      ]
     },
     "metadata": {},
     "output_type": "display_data"
    }
   ],
   "source": [
    "a : str = print(\"pakistan\") # non_ return function\n",
    "display(a)"
   ]
  },
  {
   "cell_type": "code",
   "execution_count": 46,
   "metadata": {},
   "outputs": [
    {
     "data": {
      "text/plain": [
       "2732608231424"
      ]
     },
     "metadata": {},
     "output_type": "display_data"
    }
   ],
   "source": [
    "a : str = id (names) # return function\n",
    "display(a)"
   ]
  },
  {
   "cell_type": "markdown",
   "metadata": {},
   "source": [
    "# pop method"
   ]
  },
  {
   "cell_type": "code",
   "execution_count": 52,
   "metadata": {},
   "outputs": [
    {
     "name": "stdout",
     "output_type": "stream",
     "text": [
      "anm\n"
     ]
    }
   ],
   "source": [
    "#->         0      1      2\n",
    "names :list[any] = [\"amna\",\"jhon\",\"anm\"] # length-1\n",
    "#-<       -3      -2    -1\n",
    "a : str = names.pop() # pop return method\n",
    "print(a)"
   ]
  },
  {
   "cell_type": "code",
   "execution_count": 64,
   "metadata": {},
   "outputs": [
    {
     "name": "stdout",
     "output_type": "stream",
     "text": [
      "['a', 'b', 'c', 'd', 'e', 'f']\n",
      "['a', 'amina', 'b', 'c', 'd', 'e', 'f']\n"
     ]
    }
   ],
   "source": [
    "names : list[str] =[\"a\",\"b\",\"c\",\"d\",\"e\",\"f\"]\n",
    "print(names)\n",
    "names.insert(1 ,\"amina\")# insert particular position\n",
    "\n",
    "print(names)"
   ]
  },
  {
   "cell_type": "code",
   "execution_count": 66,
   "metadata": {},
   "outputs": [
    {
     "name": "stdout",
     "output_type": "stream",
     "text": [
      "[]\n"
     ]
    }
   ],
   "source": [
    "a : list[str]=[1,2,3,4]\n",
    "a.clear()# remove all elements but object is ramin\n",
    "print(a)"
   ]
  },
  {
   "cell_type": "code",
   "execution_count": null,
   "metadata": {},
   "outputs": [],
   "source": [
    "a : list[str]=[1,2,3,4]\n",
    "del a  # remove object from memory\n",
    "print(a)"
   ]
  },
  {
   "cell_type": "code",
   "execution_count": 53,
   "metadata": {},
   "outputs": [
    {
     "name": "stdout",
     "output_type": "stream",
     "text": [
      "pakistan zindabad\n",
      "None\n"
     ]
    }
   ],
   "source": [
    "print(print(\"pakistan zindabad\"))"
   ]
  },
  {
   "cell_type": "code",
   "execution_count": 57,
   "metadata": {},
   "outputs": [
    {
     "name": "stdout",
     "output_type": "stream",
     "text": [
      "['amna', 'jhon', 'anm']\n",
      "amna\n",
      "['jhon', 'anm']\n"
     ]
    }
   ],
   "source": [
    "#->         0      1      2\n",
    "names :list[any] = [\"amna\",\"jhon\",\"anm\"] # length-1\n",
    "#-<       -3      -2    -1\n",
    "print(names)\n",
    "a : str = names.pop(0) # pop return method\n",
    "print(a)\n",
    "print(names)"
   ]
  },
  {
   "cell_type": "markdown",
   "metadata": {},
   "source": [
    "# append methods add elements in last"
   ]
  },
  {
   "cell_type": "code",
   "execution_count": 62,
   "metadata": {},
   "outputs": [
    {
     "name": "stdout",
     "output_type": "stream",
     "text": [
      "['a', 'b', 'ameen ullah', 'ameen', 'sir zia']\n"
     ]
    }
   ],
   "source": [
    "name : list[str]= [\"a\",\"b\"]\n",
    "name.append(\"ameen ullah\")# ad element in last\n",
    "name.append(\"ameen\")# add element in last\n",
    "name.append(\"sir zia\")# add element in last\n",
    "print(name)"
   ]
  },
  {
   "cell_type": "code",
   "execution_count": 68,
   "metadata": {},
   "outputs": [
    {
     "name": "stdout",
     "output_type": "stream",
     "text": [
      "['a', 'b', 'c', 'd']\n",
      "['a', 'b', 'c', 'd']\n",
      "['pakistan', 'b', 'c', 'd']\n",
      "['pakistan', 'b', 'c', 'd']\n"
     ]
    }
   ],
   "source": [
    "a : list[str]=['a','b','c','d']\n",
    "b=a # shallow copy\n",
    "print(a)\n",
    "print(b)\n",
    "b[0]= \"pakistan\" # change only b variable but both variable updated\n",
    "print(a)\n",
    "print(b)"
   ]
  },
  {
   "cell_type": "markdown",
   "metadata": {},
   "source": []
  },
  {
   "cell_type": "code",
   "execution_count": 74,
   "metadata": {},
   "outputs": [
    {
     "name": "stdout",
     "output_type": "stream",
     "text": [
      "a ['a', 'b', 'c', 'd']\n",
      "b ['a', 'b', 'c', 'd']\n",
      "a ['a', 'b', 'c', 'd']\n",
      "b ['pakistan', 'b', 'c', 'd']\n"
     ]
    }
   ],
   "source": [
    "a : list[str]=['a','b','c','d']\n",
    "b=a.copy() # Deep copy\n",
    "print(\"a\",a)\n",
    "print(\"b\",b)\n",
    "b[0]= \"pakistan\" # change only b variable but both variable updated\n",
    "print(\"a\",a)\n",
    "print(\"b\",b)"
   ]
  },
  {
   "cell_type": "markdown",
   "metadata": {},
   "source": []
  },
  {
   "cell_type": "code",
   "execution_count": 76,
   "metadata": {},
   "outputs": [
    {
     "name": "stdout",
     "output_type": "stream",
     "text": [
      "2\n",
      "3\n"
     ]
    }
   ],
   "source": [
    "# count\n",
    "names : list[str]= ['a','a','a','b','c','c']\n",
    "print(names.count(\"c\"))\n",
    "print(names.count(\"a\"))"
   ]
  },
  {
   "cell_type": "code",
   "execution_count": 77,
   "metadata": {},
   "outputs": [
    {
     "data": {
      "text/plain": [
       "['sir qasim', 'sir zia', ['Dr.aman', 'sir zia']]"
      ]
     },
     "execution_count": 77,
     "metadata": {},
     "output_type": "execute_result"
    }
   ],
   "source": [
    "names : list[str]=[\"sir qasim\",\"sir zia\"]# GenAI founder members\n",
    "new_faculty_member : list[str]=['Dr.aman','sir zia']\n",
    "names.append(new_faculty_member)\n",
    "names"
   ]
  },
  {
   "cell_type": "code",
   "execution_count": 83,
   "metadata": {},
   "outputs": [
    {
     "name": "stdout",
     "output_type": "stream",
     "text": [
      "['muhammad qasim', 'dr.anam', 'sir ahsan']\n"
     ]
    }
   ],
   "source": [
    "names : list[str] =[\"sir zia\",\"muhammad qasim\",\"dr.anam\",\"sir ahsan\"]\n",
    "names.remove(\"sir zia\")# remove with text value\n",
    "print(names)"
   ]
  },
  {
   "cell_type": "code",
   "execution_count": 85,
   "metadata": {},
   "outputs": [
    {
     "name": "stdout",
     "output_type": "stream",
     "text": [
      "['A', 'B', 'C', 'D', 'E', 'F', 'G']\n"
     ]
    },
    {
     "data": {
      "text/plain": [
       "['G', 'F', 'E', 'D', 'C', 'B', 'A']"
      ]
     },
     "execution_count": 85,
     "metadata": {},
     "output_type": "execute_result"
    }
   ],
   "source": [
    "names : list[str]= list(\"ABCDEFG\")\n",
    "print(names)\n",
    "names.reverse()# in memory = change real data\n",
    "names"
   ]
  },
  {
   "cell_type": "code",
   "execution_count": 86,
   "metadata": {},
   "outputs": [
    {
     "name": "stdout",
     "output_type": "stream",
     "text": [
      "['A', 'B', 'C', 'D', 'E', 'F', 'G']\n"
     ]
    },
    {
     "data": {
      "text/plain": [
       "['G', 'F', 'E', 'D', 'C', 'B', 'A']"
      ]
     },
     "execution_count": 86,
     "metadata": {},
     "output_type": "execute_result"
    }
   ],
   "source": [
    "names : list[str]= list(\"ABCDEFG\")\n",
    "print(names)\n",
    "names.sort(reverse=True)# in memory = change real data sort\n",
    "names"
   ]
  },
  {
   "cell_type": "code",
   "execution_count": 80,
   "metadata": {},
   "outputs": [
    {
     "ename": "ValueError",
     "evalue": "'sir zia' is not in list",
     "output_type": "error",
     "traceback": [
      "\u001b[1;31m---------------------------------------------------------------------------\u001b[0m",
      "\u001b[1;31mValueError\u001b[0m                                Traceback (most recent call last)",
      "Cell \u001b[1;32mIn[80], line 2\u001b[0m\n\u001b[0;32m      1\u001b[0m names : \u001b[38;5;28mlist\u001b[39m[\u001b[38;5;28mstr\u001b[39m] \u001b[38;5;241m=\u001b[39m[\u001b[38;5;124m\"\u001b[39m\u001b[38;5;124msir zia\u001b[39m\u001b[38;5;124m\"\u001b[39m,\u001b[38;5;124m\"\u001b[39m\u001b[38;5;124mmuhammad qasim\u001b[39m\u001b[38;5;124m\"\u001b[39m,\u001b[38;5;124m\"\u001b[39m\u001b[38;5;124mdr.anam\u001b[39m\u001b[38;5;124m\"\u001b[39m,\u001b[38;5;124m\"\u001b[39m\u001b[38;5;124msir ahsan\u001b[39m\u001b[38;5;124m\"\u001b[39m]\n\u001b[1;32m----> 2\u001b[0m \u001b[43mnames\u001b[49m\u001b[38;5;241;43m.\u001b[39;49m\u001b[43mindex\u001b[49m\u001b[43m(\u001b[49m\u001b[38;5;124;43m\"\u001b[39;49m\u001b[38;5;124;43msir zia\u001b[39;49m\u001b[38;5;124;43m\"\u001b[39;49m\u001b[43m \u001b[49m\u001b[43m,\u001b[49m\u001b[38;5;241;43m2\u001b[39;49m\u001b[43m)\u001b[49m\u001b[38;5;66;03m# 1\u001b[39;00m\n\u001b[0;32m      3\u001b[0m names\n",
      "\u001b[1;31mValueError\u001b[0m: 'sir zia' is not in list"
     ]
    }
   ],
   "source": [
    ": list[str] =[\"sir zia\",\"muhammad qasim\",\"dr.anam\",\"sir ahsan\"]\n",
    "index(\"muhammad qasim\" ,2)# 1\n"
   ]
  },
  {
   "cell_type": "code",
   "execution_count": 87,
   "metadata": {},
   "outputs": [
    {
     "data": {
      "text/plain": [
       "['sir qasim', 'sir zia', 'Dr.aman', 'sir zia']"
      ]
     },
     "execution_count": 87,
     "metadata": {},
     "output_type": "execute_result"
    }
   ],
   "source": [
    "names : list[str]=[\"sir qasim\",\"sir zia\"]# GenAI founder members\n",
    "new_faculty_member : list[str]=['Dr.aman','sir zia']\n",
    "names.extend(new_faculty_member)\n",
    "names"
   ]
  }
 ],
 "metadata": {
  "kernelspec": {
   "display_name": "Python 3",
   "language": "python",
   "name": "python3"
  },
  "language_info": {
   "codemirror_mode": {
    "name": "ipython",
    "version": 3
   },
   "file_extension": ".py",
   "mimetype": "text/x-python",
   "name": "python",
   "nbconvert_exporter": "python",
   "pygments_lexer": "ipython3",
   "version": "3.12.2"
  }
 },
 "nbformat": 4,
 "nbformat_minor": 2
}
