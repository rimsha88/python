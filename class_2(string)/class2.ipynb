{
 "cells": [
  {
   "cell_type": "code",
   "execution_count": 11,
   "metadata": {},
   "outputs": [
    {
     "name": "stdout",
     "output_type": "stream",
     "text": [
      "name\n"
     ]
    }
   ],
   "source": [
    "print(\"name\")"
   ]
  },
  {
   "cell_type": "code",
   "execution_count": 12,
   "metadata": {},
   "outputs": [
    {
     "name": "stdout",
     "output_type": "stream",
     "text": [
      "Amina Ameen\n"
     ]
    }
   ],
   "source": [
    "name : str = \"Amina Ameen\"\n",
    "print(name)"
   ]
  },
  {
   "cell_type": "markdown",
   "metadata": {},
   "source": [
    "#String data type in python"
   ]
  },
  {
   "cell_type": "code",
   "execution_count": 14,
   "metadata": {},
   "outputs": [
    {
     "ename": "SyntaxError",
     "evalue": "unterminated string literal (detected at line 1) (4212690934.py, line 1)",
     "output_type": "error",
     "traceback": [
      "\u001b[1;36m  Cell \u001b[1;32mIn[14], line 1\u001b[1;36m\u001b[0m\n\u001b[1;33m    message : str = 'PIAIC Student Card \\n father's Name'\u001b[0m\n\u001b[1;37m                                                        ^\u001b[0m\n\u001b[1;31mSyntaxError\u001b[0m\u001b[1;31m:\u001b[0m unterminated string literal (detected at line 1)\n"
     ]
    }
   ],
   "source": [
    "message : str = 'PIAIC Student Card \\n father's Name'\n",
    "print(message)"
   ]
  },
  {
   "cell_type": "code",
   "execution_count": null,
   "metadata": {},
   "outputs": [
    {
     "name": "stdout",
     "output_type": "stream",
     "text": [
      "PIAIC Student Card \n",
      " father's Name\n"
     ]
    }
   ],
   "source": [
    "message : str = \"PIAIC Student Card \\n father's Name\"\n",
    "print(message)"
   ]
  },
  {
   "cell_type": "code",
   "execution_count": null,
   "metadata": {},
   "outputs": [
    {
     "name": "stdout",
     "output_type": "stream",
     "text": [
      "PIAIC \"Student Card\" \n",
      " father Name\n"
     ]
    }
   ],
   "source": [
    "message : str = 'PIAIC \"Student Card\" \\n father Name'\n",
    "print(message)"
   ]
  },
  {
   "cell_type": "code",
   "execution_count": null,
   "metadata": {},
   "outputs": [
    {
     "name": "stdout",
     "output_type": "stream",
     "text": [
      "PIAIC Student Card \n",
      " father's Name\n"
     ]
    }
   ],
   "source": [
    "#convert any special character into simple character, place \\ before character\n",
    "message : str = 'PIAIC Student Card \\n father\\'s Name'\n",
    "print(message)"
   ]
  },
  {
   "cell_type": "code",
   "execution_count": null,
   "metadata": {},
   "outputs": [
    {
     "name": "stdout",
     "output_type": "stream",
     "text": [
      "<class 'str'>\n",
      "Amina Ameen\n"
     ]
    }
   ],
   "source": [
    "#boundries\n",
    "#'string text',\"string text\",'''string text''',\"\"\"string text\"\"\"\n",
    "#'string text' type script\n",
    "name : str = \"Amina Ameen\"\n",
    "print(type(name))\n",
    "print(name)\n",
    "\n",
    "\n"
   ]
  },
  {
   "cell_type": "code",
   "execution_count": null,
   "metadata": {},
   "outputs": [
    {
     "name": "stdout",
     "output_type": "stream",
     "text": [
      "<class 'str'>\n",
      "Amina Ameen\n"
     ]
    }
   ],
   "source": [
    "#boundries\n",
    "#'string text',\"string text\",'''string text''',\"\"\"string text\"\"\"\n",
    "#'string text' type script\n",
    "name : str = 'Amina Ameen'\n",
    "print(type(name))\n",
    "print(name)"
   ]
  },
  {
   "cell_type": "code",
   "execution_count": null,
   "metadata": {},
   "outputs": [
    {
     "data": {
      "text/plain": [
       "'abc'"
      ]
     },
     "execution_count": 21,
     "metadata": {},
     "output_type": "execute_result"
    }
   ],
   "source": [
    "\"a\" + \"b\" + \"c\""
   ]
  },
  {
   "cell_type": "code",
   "execution_count": 17,
   "metadata": {},
   "outputs": [
    {
     "name": "stdout",
     "output_type": "stream",
     "text": [
      "PIAIC Student Card\n",
      " Student Name : Amina Ameen \n",
      "Age: 20\n"
     ]
    }
   ],
   "source": [
    "#boundries\n",
    "#'string text',\"string text\",'''string text''',\"\"\"string text\"\"\"\n",
    "#'string text' type script\n",
    "name : str = \"Amina Ameen\"\n",
    "fname : str = \"Ameen Ullah\"\n",
    "education : str = \"BSIT student and programming learning\"\n",
    "age : int = 20\n",
    "card : str = \"PIAIC Student Card\\n Student Name : \" + name + \" \\nAge: \" + str(age)\n",
    "print(card)"
   ]
  },
  {
   "cell_type": "code",
   "execution_count": 18,
   "metadata": {},
   "outputs": [
    {
     "name": "stdout",
     "output_type": "stream",
     "text": [
      "17\n"
     ]
    }
   ],
   "source": [
    "print(7+2+8)"
   ]
  },
  {
   "cell_type": "markdown",
   "metadata": {},
   "source": [
    "\"\\\" Continue Line"
   ]
  },
  {
   "cell_type": "code",
   "execution_count": 25,
   "metadata": {},
   "outputs": [
    {
     "name": "stdout",
     "output_type": "stream",
     "text": [
      "17\n"
     ]
    }
   ],
   "source": [
    "print(7 + \\\n",
    "      2 + \\\n",
    "        8)"
   ]
  },
  {
   "cell_type": "code",
   "execution_count": 28,
   "metadata": {},
   "outputs": [
    {
     "name": "stdout",
     "output_type": "stream",
     "text": [
      "PIAIC Student Card\n",
      " Student Name : Amina Ameen \n",
      "Age: 20\n",
      "education:BSIT student and programming learning\n"
     ]
    }
   ],
   "source": [
    "#boundries\n",
    "#'string text',\"string text\",'''string text''',\"\"\"string text\"\"\"\n",
    "#'string text' type script\n",
    "name : str = \"Amina Ameen\"\n",
    "fname : str = \"Ameen Ullah\"\n",
    "education : str = \"BSIT student and programming learning\"\n",
    "age : int = 20\n",
    "card : str = \"PIAIC Student Card\\n Student Name : \" + name +\\\n",
    "\" \\nAge: \" + str(age)+ \"\\n\"\\\n",
    "\"education:\" + education\n",
    "print(card)"
   ]
  },
  {
   "cell_type": "markdown",
   "metadata": {},
   "source": [
    "## Define multiline string \"\"\" \"\"\",''' '''"
   ]
  },
  {
   "cell_type": "code",
   "execution_count": 31,
   "metadata": {},
   "outputs": [
    {
     "name": "stdout",
     "output_type": "stream",
     "text": [
      "  \n",
      "PIAIC Student Card\n",
      "Student Name :.......\n",
      "father's name :.......\n",
      "education :......\n",
      "age :.......\n",
      "\n"
     ]
    }
   ],
   "source": [
    "name : str = \"Amina Ameen\"\n",
    "fname : str = \"Ameen Ullah\"\n",
    "education : str = \"BSIT student and programming learning\"\n",
    "age : int = 20\n",
    "\n",
    "card : str =\"\"\"  \n",
    "PIAIC Student Card\n",
    "Student Name :.......\n",
    "father's Name :.......\n",
    "education :......\n",
    "age :.......\n",
    "\"\"\"\n",
    "print(card)"
   ]
  },
  {
   "cell_type": "markdown",
   "metadata": {},
   "source": [
    "#F_ string python"
   ]
  },
  {
   "cell_type": "code",
   "execution_count": 32,
   "metadata": {},
   "outputs": [
    {
     "name": "stdout",
     "output_type": "stream",
     "text": [
      "  \n",
      "PIAIC Student Card\n",
      "Student Name :Amina Ameen\n",
      "father's name :Ameen Ullah\n",
      "education :BSIT student and programming learning\n",
      "age :20\n",
      "\n"
     ]
    }
   ],
   "source": [
    "name : str = \"Amina Ameen\"\n",
    "fname : str = \"Ameen Ullah\"\n",
    "education : str = \"BSIT student and programming learning\"\n",
    "age : int = 20\n",
    "\n",
    "card : str =f\"\"\"  \n",
    "PIAIC Student Card\n",
    "Student Name :{name}\n",
    "father's Name :{fname}\n",
    "education :{education}\n",
    "age :{age}\n",
    "\"\"\"\n",
    "print(card)"
   ]
  },
  {
   "cell_type": "code",
   "execution_count": 36,
   "metadata": {},
   "outputs": [
    {
     "name": "stdout",
     "output_type": "stream",
     "text": [
      "  \n",
      "PIAIC Student Card\n",
      "Student Name :Amina Ameen\n",
      "father's name :Ameen Ullah\n",
      "education :BSIT student and programming learning\n",
      "age :20\n",
      "\n",
      "Total 17\n",
      "\n"
     ]
    }
   ],
   "source": [
    "name : str = \"Amina Ameen\"\n",
    "fname : str = \"Ameen Ullah\"\n",
    "education : str = \"BSIT student and programming learning\"\n",
    "age : int = 20\n",
    "\n",
    "card : str =f\"\"\"  \n",
    "PIAIC Student Card\n",
    "Student Name :{name}\n",
    "father's Name :{fname}\n",
    "education :{education}\n",
    "age :{age}\n",
    "\n",
    "Total {3+5+9}\n",
    "\"\"\"\n",
    "print(card)"
   ]
  },
  {
   "cell_type": "markdown",
   "metadata": {},
   "source": [
    "#F_string and jinja styie"
   ]
  },
  {
   "cell_type": "code",
   "execution_count": 39,
   "metadata": {},
   "outputs": [
    {
     "data": {
      "text/plain": [
       "'\\n\\nStudent Name Amina Ameen\\n'"
      ]
     },
     "execution_count": 39,
     "metadata": {},
     "output_type": "execute_result"
    }
   ],
   "source": [
    "#F_string\n",
    "f\"\"\"\n",
    "\n",
    "Student Name {name}\n",
    "\"\"\""
   ]
  },
  {
   "cell_type": "code",
   "execution_count": 40,
   "metadata": {},
   "outputs": [
    {
     "data": {
      "text/plain": [
       "'\\n\\nStudent Name {name}\\n'"
      ]
     },
     "execution_count": 40,
     "metadata": {},
     "output_type": "execute_result"
    }
   ],
   "source": [
    "#jinja style\n",
    "f\"\"\"\n",
    "\n",
    "Student Name {{name}}\n",
    "\"\"\""
   ]
  },
  {
   "cell_type": "code",
   "execution_count": 7,
   "metadata": {},
   "outputs": [
    {
     "name": "stdout",
     "output_type": "stream",
     "text": [
      "  \n",
      "PIAIC Student Card\n",
      "Student Name :  Amina Ameen\n",
      "father's Name : Ameen Ullah\n",
      "education : BSIT student and programming learning\n",
      "age : 20\n",
      "\n",
      "\n",
      "\n"
     ]
    }
   ],
   "source": [
    "name : str = \"Amina Ameen\"\n",
    "fname : str = \"Ameen Ullah\"\n",
    "education : str = \"BSIT student and programming learning\"\n",
    "age : int = 20\n",
    "\n",
    "card : str =f\"\"\"  \n",
    "PIAIC Student Card\n",
    "Student Name :  %s\n",
    "father's Name : %s\n",
    "education : %s\n",
    "age : %d\n",
    "\n",
    "\n",
    "\"\"\" % (name, fname, education, age)\n",
    "print(card)"
   ]
  },
  {
   "cell_type": "code",
   "execution_count": 3,
   "metadata": {},
   "outputs": [
    {
     "data": {
      "text/plain": [
       "['__add__',\n",
       " '__class__',\n",
       " '__contains__',\n",
       " '__delattr__',\n",
       " '__dir__',\n",
       " '__doc__',\n",
       " '__eq__',\n",
       " '__format__',\n",
       " '__ge__',\n",
       " '__getattribute__',\n",
       " '__getitem__',\n",
       " '__getnewargs__',\n",
       " '__getstate__',\n",
       " '__gt__',\n",
       " '__hash__',\n",
       " '__init__',\n",
       " '__init_subclass__',\n",
       " '__iter__',\n",
       " '__le__',\n",
       " '__len__',\n",
       " '__lt__',\n",
       " '__mod__',\n",
       " '__mul__',\n",
       " '__ne__',\n",
       " '__new__',\n",
       " '__reduce__',\n",
       " '__reduce_ex__',\n",
       " '__repr__',\n",
       " '__rmod__',\n",
       " '__rmul__',\n",
       " '__setattr__',\n",
       " '__sizeof__',\n",
       " '__str__',\n",
       " '__subclasshook__',\n",
       " 'capitalize',\n",
       " 'casefold',\n",
       " 'center',\n",
       " 'count',\n",
       " 'encode',\n",
       " 'endswith',\n",
       " 'expandtabs',\n",
       " 'find',\n",
       " 'format',\n",
       " 'format_map',\n",
       " 'index',\n",
       " 'isalnum',\n",
       " 'isalpha',\n",
       " 'isascii',\n",
       " 'isdecimal',\n",
       " 'isdigit',\n",
       " 'isidentifier',\n",
       " 'islower',\n",
       " 'isnumeric',\n",
       " 'isprintable',\n",
       " 'isspace',\n",
       " 'istitle',\n",
       " 'isupper',\n",
       " 'join',\n",
       " 'ljust',\n",
       " 'lower',\n",
       " 'lstrip',\n",
       " 'maketrans',\n",
       " 'partition',\n",
       " 'removeprefix',\n",
       " 'removesuffix',\n",
       " 'replace',\n",
       " 'rfind',\n",
       " 'rindex',\n",
       " 'rjust',\n",
       " 'rpartition',\n",
       " 'rsplit',\n",
       " 'rstrip',\n",
       " 'split',\n",
       " 'splitlines',\n",
       " 'startswith',\n",
       " 'strip',\n",
       " 'swapcase',\n",
       " 'title',\n",
       " 'translate',\n",
       " 'upper',\n",
       " 'zfill']"
      ]
     },
     "execution_count": 3,
     "metadata": {},
     "output_type": "execute_result"
    }
   ],
   "source": [
    "[i for i in dir(str) if \"_\" not i]"
   ]
  },
  {
   "cell_type": "code",
   "execution_count": 4,
   "metadata": {},
   "outputs": [
    {
     "name": "stdout",
     "output_type": "stream",
     "text": [
      "Amina ameen\n",
      "amina ameen\n",
      "AMINA AMEEN\n"
     ]
    }
   ],
   "source": [
    "name : str = 'amina ameen'\n",
    "print(name.capitalize())\n",
    "print(name.lower())\n",
    "print(name.upper())"
   ]
  },
  {
   "cell_type": "code",
   "execution_count": 7,
   "metadata": {},
   "outputs": [
    {
     "data": {
      "text/plain": [
       "'pakistan value a = {7} value b ={9}.format(a,b)'"
      ]
     },
     "execution_count": 7,
     "metadata": {},
     "output_type": "execute_result"
    }
   ],
   "source": [
    "a = 7\n",
    "b = 9\n",
    "# {} place holder\n",
    "\n",
    "\"pakistan value a = {7} value b ={9}.format(a,b)\""
   ]
  },
  {
   "cell_type": "code",
   "execution_count": 11,
   "metadata": {},
   "outputs": [
    {
     "name": "stdout",
     "output_type": "stream",
     "text": [
      "  \n",
      "PIAIC Student Card\n",
      "Student Name :1\n",
      "father's Name :0\n",
      "age : 3\n",
      "education :2\n",
      "\n",
      "\n"
     ]
    }
   ],
   "source": [
    "name : str = \"Amina Ameen\"\n",
    "fname : str = \"Ameen Ullah\"\n",
    "education : str = \"BSIT student and programming learning\"\n",
    "age : int = 20\n",
    "\n",
    "card : str =f\"\"\"  \n",
    "PIAIC Student Card\n",
    "Student Name :{1}\n",
    "father's Name :{0}\n",
    "age : {3}\n",
    "education :{2}\n",
    "\n",
    "\"\"\" .format(name, fname, education, age)\n",
    "#             0     1        2       3\n",
    "print(card)"
   ]
  },
  {
   "cell_type": "code",
   "execution_count": 12,
   "metadata": {},
   "outputs": [
    {
     "name": "stdout",
     "output_type": "stream",
     "text": [
      "My name is Amina\n",
      "15\n"
     ]
    }
   ],
   "source": [
    "student_code : str =\"\"\"\n",
    "print(\"My name is Amina\")\n",
    "a : int = 6\n",
    "b : int = 9\n",
    "print(a+b)\n",
    "\"\"\" \n",
    "exec(student_code)"
   ]
  },
  {
   "cell_type": "markdown",
   "metadata": {},
   "source": [
    "Explore string methods and attributes\n",
    "pre_define global function we have used\n",
    "*print\n",
    "*type\n",
    "*id\n",
    "*dir\n",
    "*len"
   ]
  },
  {
   "cell_type": "code",
   "execution_count": 13,
   "metadata": {},
   "outputs": [
    {
     "name": "stdout",
     "output_type": "stream",
     "text": [
      "['capitalize', 'casefold', 'center', 'count', 'encode', 'endswith', 'expandtabs', 'find', 'format', 'index', 'isalnum', 'isalpha', 'isascii', 'isdecimal', 'isdigit', 'isidentifier', 'islower', 'isnumeric', 'isprintable', 'isspace', 'istitle', 'isupper', 'join', 'ljust', 'lower', 'lstrip', 'maketrans', 'partition', 'removeprefix', 'removesuffix', 'replace', 'rfind', 'rindex', 'rjust', 'rpartition', 'rsplit', 'rstrip', 'split', 'splitlines', 'startswith', 'strip', 'swapcase', 'title', 'translate', 'upper', 'zfill']\n",
      "46\n"
     ]
    }
   ],
   "source": [
    "a: list[str]= [i for i in dir(str) if \"_\" not in i]\n",
    "print(a)\n",
    "print(len(a))"
   ]
  },
  {
   "cell_type": "markdown",
   "metadata": {},
   "source": [
    "Different string methods and attributes"
   ]
  },
  {
   "cell_type": "code",
   "execution_count": 14,
   "metadata": {},
   "outputs": [
    {
     "name": "stdout",
     "output_type": "stream",
     "text": [
      "Amina Ameen\n",
      "b'Amina Ameen'\n"
     ]
    }
   ],
   "source": [
    "name : str = \"Amina Ameen\"\n",
    "print(name)\n",
    "print(name.encode())"
   ]
  },
  {
   "cell_type": "code",
   "execution_count": 21,
   "metadata": {},
   "outputs": [
    {
     "data": {
      "text/plain": [
       "'     Amina Ameen     '"
      ]
     },
     "metadata": {},
     "output_type": "display_data"
    },
    {
     "data": {
      "text/plain": [
       "'Amina Ameen     '"
      ]
     },
     "metadata": {},
     "output_type": "display_data"
    }
   ],
   "source": [
    "name : str = \"     Amina Ameen     \"\n",
    "#variable_name.methods{}\n",
    "display(name)\n",
    "display(name.lstrip())"
   ]
  },
  {
   "cell_type": "code",
   "execution_count": 22,
   "metadata": {},
   "outputs": [
    {
     "data": {
      "text/plain": [
       "'     Amina       Ameen     '"
      ]
     },
     "metadata": {},
     "output_type": "display_data"
    },
    {
     "data": {
      "text/plain": [
       "'Amina       Ameen'"
      ]
     },
     "metadata": {},
     "output_type": "display_data"
    }
   ],
   "source": [
    "name : str = \"     Amina           Ameen     \"\n",
    "#variable_name.methods{}\n",
    "display(name)\n",
    "display(name.strip())"
   ]
  },
  {
   "cell_type": "markdown",
   "metadata": {},
   "source": [
    "\\t\n",
    "\\n\n",
    "\\b"
   ]
  },
  {
   "cell_type": "code",
   "execution_count": 24,
   "metadata": {},
   "outputs": [
    {
     "name": "stdout",
     "output_type": "stream",
     "text": [
      "name:\t\t amina ameen\n"
     ]
    }
   ],
   "source": [
    "print(\"name:\\t\\t amina ameen\")"
   ]
  },
  {
   "cell_type": "code",
   "execution_count": 25,
   "metadata": {},
   "outputs": [
    {
     "name": "stdout",
     "output_type": "stream",
     "text": [
      "name:\n",
      "\n",
      " amina ameen\n"
     ]
    }
   ],
   "source": [
    "print(\"name:\\n\\n amina ameen\")"
   ]
  },
  {
   "cell_type": "code",
   "execution_count": 26,
   "metadata": {},
   "outputs": [
    {
     "name": "stdout",
     "output_type": "stream",
     "text": [
      "nam amina ameen\n"
     ]
    }
   ],
   "source": [
    "print(\"name:\\b\\b amina ameen\")"
   ]
  },
  {
   "cell_type": "code",
   "execution_count": 1,
   "metadata": {},
   "outputs": [
    {
     "data": {
      "text/plain": [
       "''"
      ]
     },
     "execution_count": 1,
     "metadata": {},
     "output_type": "execute_result"
    }
   ],
   "source": [
    "nostarch_url :str = 'https://nostarch.com'\n",
    "nostarch_url.removeprefix('https://nostarch.com')\n"
   ]
  },
  {
   "cell_type": "code",
   "execution_count": 3,
   "metadata": {},
   "outputs": [
    {
     "name": "stdout",
     "output_type": "stream",
     "text": [
      "amina\n"
     ]
    }
   ],
   "source": [
    "_1name  : str= \"amina\"\n",
    "print(_1name)"
   ]
  },
  {
   "cell_type": "code",
   "execution_count": 4,
   "metadata": {},
   "outputs": [
    {
     "ename": "SyntaxError",
     "evalue": "invalid syntax (4068602893.py, line 1)",
     "output_type": "error",
     "traceback": [
      "\u001b[1;36m  Cell \u001b[1;32mIn[4], line 1\u001b[1;36m\u001b[0m\n\u001b[1;33m    piaic student name :str = \"amina\"\u001b[0m\n\u001b[1;37m          ^\u001b[0m\n\u001b[1;31mSyntaxError\u001b[0m\u001b[1;31m:\u001b[0m invalid syntax\n"
     ]
    }
   ],
   "source": [
    "piaic student name :str = \"amina\"\n",
    "print(piaic student name)"
   ]
  },
  {
   "cell_type": "code",
   "execution_count": 5,
   "metadata": {},
   "outputs": [
    {
     "name": "stdout",
     "output_type": "stream",
     "text": [
      "amina\n"
     ]
    }
   ],
   "source": [
    "piaic_student_name :str = \"amina\"\n",
    "print(piaic_student_name)"
   ]
  }
 ],
 "metadata": {
  "kernelspec": {
   "display_name": "Python 3",
   "language": "python",
   "name": "python3"
  },
  "language_info": {
   "codemirror_mode": {
    "name": "ipython",
    "version": 3
   },
   "file_extension": ".py",
   "mimetype": "text/x-python",
   "name": "python",
   "nbconvert_exporter": "python",
   "pygments_lexer": "ipython3",
   "version": "3.12.2"
  }
 },
 "nbformat": 4,
 "nbformat_minor": 2
}
